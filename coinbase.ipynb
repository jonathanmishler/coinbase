{
 "cells": [
  {
   "cell_type": "code",
   "execution_count": 1,
   "metadata": {},
   "outputs": [],
   "source": [
    "%load_ext autoreload\n",
    "%autoreload 2"
   ]
  },
  {
   "cell_type": "code",
   "execution_count": 2,
   "metadata": {},
   "outputs": [],
   "source": [
    "from typing import List, Callable, Any\n",
    "from json import JSONDecoder\n",
    "from decimal import Decimal\n",
    "from datetime import datetime, timedelta\n",
    "from pydantic import parse_raw_as\n",
    "from coinbase.candle_sync import Coin\n",
    "import psycopg\n",
    "from psycopg import sql\n",
    "from coinbase.db import settings\n",
    "from coinbase.db import models"
   ]
  },
  {
   "cell_type": "code",
   "execution_count": 3,
   "metadata": {},
   "outputs": [],
   "source": [
    "config = settings.Settings()\n",
    "end = datetime(2021, 11, 30, 12, 0)\n",
    "start = end - timedelta(seconds=(300*60*1))"
   ]
  },
  {
   "cell_type": "code",
   "execution_count": 4,
   "metadata": {},
   "outputs": [],
   "source": [
    "api = Coin(\"ADA-USD\")\n",
    "data = api.history(60, start, end)"
   ]
  },
  {
   "cell_type": "code",
   "execution_count": 5,
   "metadata": {},
   "outputs": [],
   "source": [
    "coin = models.CoinHistory.from_coinbase(data[0].text)"
   ]
  },
  {
   "cell_type": "code",
   "execution_count": 9,
   "metadata": {},
   "outputs": [
    {
     "ename": "ProgrammingError",
     "evalue": "the query has 6 placeholders but 300 parameters were passed",
     "output_type": "error",
     "traceback": [
      "\u001b[0;31m---------------------------------------------------------------------------\u001b[0m",
      "\u001b[0;31mProgrammingError\u001b[0m                          Traceback (most recent call last)",
      "\u001b[0;32m/tmp/ipykernel_102251/3991152662.py\u001b[0m in \u001b[0;36m<module>\u001b[0;34m\u001b[0m\n\u001b[1;32m      3\u001b[0m \u001b[0;32mwith\u001b[0m \u001b[0mpsycopg\u001b[0m\u001b[0;34m.\u001b[0m\u001b[0mconnect\u001b[0m\u001b[0;34m(\u001b[0m\u001b[0mconfig\u001b[0m\u001b[0;34m.\u001b[0m\u001b[0mconn_str\u001b[0m\u001b[0;34m)\u001b[0m \u001b[0;32mas\u001b[0m \u001b[0mconn\u001b[0m\u001b[0;34m:\u001b[0m\u001b[0;34m\u001b[0m\u001b[0;34m\u001b[0m\u001b[0m\n\u001b[1;32m      4\u001b[0m     \u001b[0;32mwith\u001b[0m \u001b[0mconn\u001b[0m\u001b[0;34m.\u001b[0m\u001b[0mcursor\u001b[0m\u001b[0;34m(\u001b[0m\u001b[0;34m)\u001b[0m \u001b[0;32mas\u001b[0m \u001b[0mcur\u001b[0m\u001b[0;34m:\u001b[0m\u001b[0;34m\u001b[0m\u001b[0;34m\u001b[0m\u001b[0m\n\u001b[0;32m----> 5\u001b[0;31m         \u001b[0mcur\u001b[0m\u001b[0;34m.\u001b[0m\u001b[0mexecute\u001b[0m\u001b[0;34m(\u001b[0m\u001b[0msql_str\u001b[0m\u001b[0;34m.\u001b[0m\u001b[0mas_string\u001b[0m\u001b[0;34m(\u001b[0m\u001b[0mconn\u001b[0m\u001b[0;34m)\u001b[0m\u001b[0;34m,\u001b[0m \u001b[0;34m[\u001b[0m\u001b[0mrow\u001b[0m\u001b[0;34m.\u001b[0m\u001b[0mas_tuple\u001b[0m\u001b[0;34m(\u001b[0m\u001b[0;34m)\u001b[0m \u001b[0;32mfor\u001b[0m \u001b[0mrow\u001b[0m \u001b[0;32min\u001b[0m \u001b[0mcoin\u001b[0m\u001b[0;34m]\u001b[0m\u001b[0;34m)\u001b[0m\u001b[0;34m\u001b[0m\u001b[0;34m\u001b[0m\u001b[0m\n\u001b[0m",
      "\u001b[0;32m~/Projects/coinbase/.venv/lib/python3.9/site-packages/psycopg/cursor.py\u001b[0m in \u001b[0;36mexecute\u001b[0;34m(self, query, params, prepare, binary)\u001b[0m\n\u001b[1;32m    562\u001b[0m                 )\n\u001b[1;32m    563\u001b[0m         \u001b[0;32mexcept\u001b[0m \u001b[0me\u001b[0m\u001b[0;34m.\u001b[0m\u001b[0mError\u001b[0m \u001b[0;32mas\u001b[0m \u001b[0mex\u001b[0m\u001b[0;34m:\u001b[0m\u001b[0;34m\u001b[0m\u001b[0;34m\u001b[0m\u001b[0m\n\u001b[0;32m--> 564\u001b[0;31m             \u001b[0;32mraise\u001b[0m \u001b[0mex\u001b[0m\u001b[0;34m.\u001b[0m\u001b[0mwith_traceback\u001b[0m\u001b[0;34m(\u001b[0m\u001b[0;32mNone\u001b[0m\u001b[0;34m)\u001b[0m\u001b[0;34m\u001b[0m\u001b[0;34m\u001b[0m\u001b[0m\n\u001b[0m\u001b[1;32m    565\u001b[0m         \u001b[0;32mreturn\u001b[0m \u001b[0mself\u001b[0m\u001b[0;34m\u001b[0m\u001b[0;34m\u001b[0m\u001b[0m\n\u001b[1;32m    566\u001b[0m \u001b[0;34m\u001b[0m\u001b[0m\n",
      "\u001b[0;31mProgrammingError\u001b[0m: the query has 6 placeholders but 300 parameters were passed"
     ]
    }
   ],
   "source": [
    "#sql_str = models.CoinHistory.create_table_str(\"ADA-USD\")\n",
    "sql_str = models.CoinHistory.insert_str(\"ADA-USD\")\n",
    "with psycopg.connect(config.conn_str) as conn:\n",
    "    with conn.cursor() as cur:\n",
    "        cur.execute(sql_str.as_string(conn), *[row.as_tuple() for row in coin])"
   ]
  },
  {
   "cell_type": "code",
   "execution_count": 11,
   "metadata": {},
   "outputs": [
    {
     "data": {
      "text/plain": [
       "300"
      ]
     },
     "execution_count": 11,
     "metadata": {},
     "output_type": "execute_result"
    }
   ],
   "source": [
    "[row.as_tuple() for row in coin]"
   ]
  },
  {
   "cell_type": "code",
   "execution_count": 11,
   "metadata": {},
   "outputs": [
    {
     "name": "stdout",
     "output_type": "stream",
     "text": [
      "\n",
      "            CREATE TABLE \"ADA-USD_history\" (\n",
      "                timestamp TIMESTAMP PRIMARY KEY,\n",
      "                low NUMERIC(10,5),\n",
      "                high NUMERIC(10,5),\n",
      "                open NUMERIC(10,5),\n",
      "                close NUMERIC(10,5),\n",
      "                volumne DOUBLE PRECISION\n",
      "                )\n",
      "            \n"
     ]
    }
   ],
   "source": [
    "coin_id = \"ADA-USD\"\n",
    "price_precision = 10\n",
    "price_scale = 5\n",
    "sql_str = sql.SQL(\"\"\"\n",
    "            CREATE TABLE {table} (\n",
    "                timestamp TIMESTAMP PRIMARY KEY,\n",
    "                low {price_type},\n",
    "                high {price_type},\n",
    "                open {price_type},\n",
    "                close {price_type},\n",
    "                volumne DOUBLE PRECISION\n",
    "                )\n",
    "            \"\"\").format(\n",
    "                table = sql.Identifier(f'{coin_id}_history'),\n",
    "                price_type = sql.SQL(f'NUMERIC({price_precision},{price_scale})')\n",
    "            )\n",
    "with psycopg.connect(config.conn_str) as conn:\n",
    "    print(sql_str.as_string(conn))"
   ]
  },
  {
   "cell_type": "code",
   "execution_count": 12,
   "metadata": {},
   "outputs": [],
   "source": [
    "with psycopg.connect(config.conn_str) as conn:\n",
    "    with conn.cursor() as cur:\n",
    "        cur.execute(sql_str)"
   ]
  },
  {
   "cell_type": "code",
   "execution_count": 13,
   "metadata": {},
   "outputs": [
    {
     "data": {
      "text/plain": [
       "psycopg.sql.Composed"
      ]
     },
     "execution_count": 13,
     "metadata": {},
     "output_type": "execute_result"
    }
   ],
   "source": [
    "type(sql_str)"
   ]
  },
  {
   "cell_type": "code",
   "execution_count": null,
   "metadata": {},
   "outputs": [],
   "source": []
  }
 ],
 "metadata": {
  "interpreter": {
   "hash": "988ae9722e41a8f091d24789c6bc0802cd000dadb680fde9db76a337ccfff14a"
  },
  "kernelspec": {
   "display_name": "Python 3.9.9 64-bit ('.venv': venv)",
   "language": "python",
   "name": "python3"
  },
  "language_info": {
   "codemirror_mode": {
    "name": "ipython",
    "version": 3
   },
   "file_extension": ".py",
   "mimetype": "text/x-python",
   "name": "python",
   "nbconvert_exporter": "python",
   "pygments_lexer": "ipython3",
   "version": "3.9.5"
  },
  "orig_nbformat": 4
 },
 "nbformat": 4,
 "nbformat_minor": 2
}
